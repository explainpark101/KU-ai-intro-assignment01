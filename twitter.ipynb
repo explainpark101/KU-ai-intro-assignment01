{
 "cells": [
  {
   "cell_type": "code",
   "execution_count": 46,
   "metadata": {},
   "outputs": [],
   "source": [
    "import requests\n",
    "import pandas as pd\n",
    "from bs4 import BeautifulSoup\n",
    "from urllib.parse import urlparse\n",
    "import orjson as json"
   ]
  },
  {
   "cell_type": "code",
   "execution_count": 13,
   "metadata": {},
   "outputs": [],
   "source": [
    "df = pd.concat([pd.read_csv(\"./dataset/(Dataset 4) Drug Use Tweets/Main_data.csv\"), pd.read_csv(\"./dataset/(Dataset 4) Drug Use Tweets/Other_data.csv\")]).reindex()"
   ]
  },
  {
   "cell_type": "code",
   "execution_count": 30,
   "metadata": {},
   "outputs": [
    {
     "name": "stdout",
     "output_type": "stream",
     "text": [
      "<!DOCTYPE html><html lang=\"en\"><!--\n",
      "\n",
      "   █████ ▐█▌       ███████████                              ███\n",
      " ███      █            ███                                  ███\n",
      "███                    ███                                  ███\n",
      "███      ███  ███  ███ ███  ███  ███  ███  ██████   ██████  ██████\n",
      "███████▌ ███   ▐█▌▐█▌  ███  ███  ███  ███ ▐█▌  ▐█▌ ▐█▌  ▐█▌ ███\n",
      "███      ███    ▐██▌   ███  ███  ███  ███ ████████ ████████ ███\n",
      "███      ███   ▐█▌▐█▌  ███  ▐██▌ ███ ▐██▌ ▐█▌      ▐█▌      ▐██▌\n",
      "███      ███  ███  ███ ███   ▐█████████▌    ▐████    ▐████    ▐████\n",
      "███\n",
      "███   A better way to embed Tweets on Discord, Telegram, and more.\n",
      "███   Worker build fixtweet-main-8fbedb2-2023-11-21T03:49:48\n",
      "\n",
      "--><head><link rel=\"canonical\" href=\"https://twitter.com/DipsumValley/status/1518489474103234560\"/><meta property=\"og:url\" content=\"https://twitter.com/DipsumValley/status/1518489474103234560\"/><meta property=\"twitter:site\" content=\"@DipsumValley\"/><meta property=\"twitter:creator\" content=\"@DipsumValley\"/><meta property=\"theme-color\" content=\"#00a8fc\"/><meta property=\"twitter:title\" content=\"Dᴇᴠ Dᴜᴢᴢᴇᴛ (@DipsumValley)\"/><meta http-equiv=\"refresh\" content=\"0;url=https://twitter.com/DipsumValley/status/1518489474103234560\"/><meta property=\"twitter:image\" content=\"https://pbs.twimg.com/media/FRLCISGWUAApX62.jpg\"/><meta property=\"og:image\" content=\"https://pbs.twimg.com/media/FRLCISGWUAApX62.jpg\"/><meta property=\"twitter:image:width\" content=\"820\"/><meta property=\"twitter:image:height\" content=\"710\"/><meta property=\"og:image:width\" content=\"820\"/><meta property=\"og:image:height\" content=\"710\"/><meta property=\"twitter:card\" content=\"summary_large_image\"/><meta property=\"og:title\" content=\"Dᴇᴠ Dᴜᴢᴢᴇᴛ (@DipsumValley)\"/><meta property=\"og:description\" content=\"Every 2 months this same specific fucking mouth clipart makes its way on my screen one way or another. Whether it be a YouTube or Roblox thumbnail. It always makes its way back to me. Hiding is useless.\"/><meta property=\"og:site_name\" content=\"FixTweet / FixupX\"/><link rel=\"alternate\" href=\"https://fxtwitter.com/owoembed?text=150%20%F0%9F%92%AC%20%20%20%20378%20%F0%9F%94%81%20%20%20%203%2C992%20%E2%9D%A4%EF%B8%8F&status=1518489474103234560&author=DipsumValley\" type=\"application/json+oembed\" title=\"Dᴇᴠ Dᴜᴢᴢᴇᴛ\"></head><body></body></html>\n"
     ]
    }
   ],
   "source": [
    "sample_tweet = \"https://fixupx.com/DipsumValley/status/1518489474103234560?s=20\"\n",
    "print(requests.get(sample_tweet).text)"
   ]
  },
  {
   "cell_type": "code",
   "execution_count": 42,
   "metadata": {},
   "outputs": [
    {
     "name": "stdout",
     "output_type": "stream",
     "text": [
      "@JoJoFromJerz I think the interviewer was about to crack up laughing but camera pulled away\n"
     ]
    },
    {
     "data": {
      "text/plain": [
       "'<!DOCTYPE html><html lang=\"en\"><!--\\n\\n   █████ ▐█▌       ███████████                              ███\\n ███      █            ███                                  ███\\n███                    ███                                  ███\\n███      ███  ███  ███ ███  ███  ███  ███  ██████   ██████  ██████\\n███████▌ ███   ▐█▌▐█▌  ███  ███  ███  ███ ▐█▌  ▐█▌ ▐█▌  ▐█▌ ███\\n███      ███    ▐██▌   ███  ███  ███  ███ ████████ ████████ ███\\n███      ███   ▐█▌▐█▌  ███  ▐██▌ ███ ▐██▌ ▐█▌      ▐█▌      ▐██▌\\n███      ███  ███  ███ ███   ▐█████████▌    ▐████    ▐████    ▐████\\n███\\n███   A better way to embed Tweets on Discord, Telegram, and more.\\n███   Worker build fixtweet-main-8fbedb2-2023-11-21T03:49:48\\n\\n--><head><link rel=\"canonical\" href=\"https://twitter.com/richardwehrle/status/1520227683543695361\"/><meta property=\"og:url\" content=\"https://twitter.com/richardwehrle/status/1520227683543695361\"/><meta property=\"twitter:site\" content=\"@richardwehrle\"/><meta property=\"twitter:creator\" content=\"@richardwehrle\"/><meta property=\"theme-color\" content=\"#00a8fc\"/><meta property=\"twitter:title\" content=\"richard m wehrle (@richardwehrle)\"/><meta http-equiv=\"refresh\" content=\"0;url=https://twitter.com/richardwehrle/status/1520227683543695361\"/><meta property=\"og:image\" content=\"https://pbs.twimg.com/profile_images/1506813506561232912/rXrEyk4B_200x200.jpg\"/><meta property=\"twitter:image\" content=\"0\"/><meta property=\"twitter:card\" content=\"undefined\"/><meta property=\"og:title\" content=\"richard m wehrle (@richardwehrle)\"/><meta property=\"og:description\" content=\"@JoJoFromJerz I think the interviewer was about to crack up laughing but camera pulled away\"/><meta property=\"og:site_name\" content=\"FixTweet / FixupX\"/><link rel=\"alternate\" href=\"https://fxtwitter.com/owoembed?text=%E2%86%AA%20Replying%20to%20%40JoJoFromJerz&status=1520227683543695361&author=richardwehrle\" type=\"application/json+oembed\" title=\"richard m wehrle\"></head><body></body></html>'"
      ]
     },
     "execution_count": 42,
     "metadata": {},
     "output_type": "execute_result"
    }
   ],
   "source": [
    "def get_tweet(url):\n",
    "    _url = urlparse(url)\n",
    "    if _url.hostname == 'twitter.com':\n",
    "        url = url.replace(\"twitter.com\", \"fxtwitter.com\")\n",
    "    resp = requests.get(url)\n",
    "    if resp.status_code != 200:\n",
    "        resp = requests.get(resp.url)\n",
    "        return None\n",
    "    soup = BeautifulSoup(resp.text)\n",
    "    \n",
    "    print(soup.select_one(\"meta[property='og:description']\").attrs.get(\"content\"))\n",
    "    return resp.text\n",
    "\n",
    "get_tweet(\"https://fxtwitter.com/richardwehrle/status/1520227683543695361\")"
   ]
  },
  {
   "cell_type": "code",
   "execution_count": 38,
   "metadata": {},
   "outputs": [
    {
     "data": {
      "text/plain": [
       "<Response [200]>"
      ]
     },
     "execution_count": 38,
     "metadata": {},
     "output_type": "execute_result"
    }
   ],
   "source": [
    "requests.get(\"https://twitter.com/BrightyLighty_/status/1519141061507137536\")"
   ]
  },
  {
   "cell_type": "code",
   "execution_count": 60,
   "metadata": {},
   "outputs": [
    {
     "name": "stdout",
     "output_type": "stream",
     "text": [
      "{'communityNote': None,\n",
      " 'conversationID': '1520190051082248192',\n",
      " 'date': 'Sat Apr 30 02:24:58 +0000 2022',\n",
      " 'date_epoch': 1651285498,\n",
      " 'hashtags': [],\n",
      " 'likes': 0,\n",
      " 'mediaURLs': [],\n",
      " 'media_extended': [],\n",
      " 'possibly_sensitive': False,\n",
      " 'qrtURL': None,\n",
      " 'replies': 0,\n",
      " 'retweets': 0,\n",
      " 'text': '@JoJoFromJerz I think the interviewer was about to crack up laughing '\n",
      "         'but camera pulled away',\n",
      " 'tweetID': '1520227683543695361',\n",
      " 'tweetURL': 'https://twitter.com/richardwehrle/status/1520227683543695361',\n",
      " 'user_name': 'richard m wehrle',\n",
      " 'user_profile_image_url': 'https://pbs.twimg.com/profile_images/1506813506561232912/rXrEyk4B_normal.jpg',\n",
      " 'user_screen_name': 'richardwehrle'}\n"
     ]
    }
   ],
   "source": [
    "from pprint import pprint\n",
    "\n",
    "def get_vxtweet(url):\n",
    "    _url = urlparse(url)\n",
    "    url = url.replace(_url.hostname, 'api.vxtwitter.com')\n",
    "    resp = requests.get(url)\n",
    "    try:\n",
    "        jsonData = json.loads(resp.text)\n",
    "        return jsonData\n",
    "    except json.JSONDecodeError:\n",
    "        return None\n",
    "pprint(get_vxtweet(\"https://fxtwitter.com/richardwehrle/status/1520227683543695361\"))    "
   ]
  },
  {
   "cell_type": "code",
   "execution_count": null,
   "metadata": {},
   "outputs": [],
   "source": [
    "tweet_datas = df.url.apply(get_vxtweet)\n",
    "for col in [\"date\", \"date_epoch\", \"likes\", \"text\", \"retweets\", \"tweetURL\"]:\n",
    "    df[col] = tweet_datas.apply(lambda x:x.get(col))\n",
    "df.to_csv(\"Dataset_3_processed.csv\")"
   ]
  },
  {
   "cell_type": "code",
   "execution_count": 80,
   "metadata": {},
   "outputs": [
    {
     "data": {
      "text/plain": [
       "112057"
      ]
     },
     "execution_count": 80,
     "metadata": {},
     "output_type": "execute_result"
    }
   ],
   "source": [
    "df.shape[0]"
   ]
  },
  {
   "cell_type": "code",
   "execution_count": 95,
   "metadata": {},
   "outputs": [],
   "source": []
  },
  {
   "cell_type": "code",
   "execution_count": 97,
   "metadata": {},
   "outputs": [],
   "source": [
    "df"
   ]
  },
  {
   "cell_type": "code",
   "execution_count": 75,
   "metadata": {},
   "outputs": [
    {
     "data": {
      "text/html": [
       "<div>\n",
       "<style scoped>\n",
       "    .dataframe tbody tr th:only-of-type {\n",
       "        vertical-align: middle;\n",
       "    }\n",
       "\n",
       "    .dataframe tbody tr th {\n",
       "        vertical-align: top;\n",
       "    }\n",
       "\n",
       "    .dataframe thead th {\n",
       "        text-align: right;\n",
       "    }\n",
       "</style>\n",
       "<table border=\"1\" class=\"dataframe\">\n",
       "  <thead>\n",
       "    <tr style=\"text-align: right;\">\n",
       "      <th></th>\n",
       "      <th>url</th>\n",
       "      <th>label</th>\n",
       "    </tr>\n",
       "  </thead>\n",
       "  <tbody>\n",
       "    <tr>\n",
       "      <th>31593</th>\n",
       "      <td>https://twitter.com/coldthrill_/status/1522055...</td>\n",
       "      <td>F</td>\n",
       "    </tr>\n",
       "    <tr>\n",
       "      <th>31594</th>\n",
       "      <td>https://twitter.com/__akrv/status/152183898583...</td>\n",
       "      <td>F</td>\n",
       "    </tr>\n",
       "    <tr>\n",
       "      <th>31595</th>\n",
       "      <td>https://twitter.com/diggichen/status/152191208...</td>\n",
       "      <td>F</td>\n",
       "    </tr>\n",
       "    <tr>\n",
       "      <th>31596</th>\n",
       "      <td>https://twitter.com/st_cadoc/status/1521856449...</td>\n",
       "      <td>F</td>\n",
       "    </tr>\n",
       "    <tr>\n",
       "      <th>31597</th>\n",
       "      <td>https://twitter.com/featpinks/status/152215746...</td>\n",
       "      <td>F</td>\n",
       "    </tr>\n",
       "    <tr>\n",
       "      <th>...</th>\n",
       "      <td>...</td>\n",
       "      <td>...</td>\n",
       "    </tr>\n",
       "    <tr>\n",
       "      <th>32588</th>\n",
       "      <td>https://twitter.com/markmccaughrean/status/152...</td>\n",
       "      <td>F</td>\n",
       "    </tr>\n",
       "    <tr>\n",
       "      <th>32589</th>\n",
       "      <td>https://twitter.com/drumkingpiu/status/1521806...</td>\n",
       "      <td>F</td>\n",
       "    </tr>\n",
       "    <tr>\n",
       "      <th>32590</th>\n",
       "      <td>https://twitter.com/ausforkj/status/1522129463...</td>\n",
       "      <td>F</td>\n",
       "    </tr>\n",
       "    <tr>\n",
       "      <th>32591</th>\n",
       "      <td>https://twitter.com/dkpareek21/status/15218167...</td>\n",
       "      <td>F</td>\n",
       "    </tr>\n",
       "    <tr>\n",
       "      <th>32592</th>\n",
       "      <td>https://twitter.com/darkandelicate/status/1521...</td>\n",
       "      <td>F</td>\n",
       "    </tr>\n",
       "  </tbody>\n",
       "</table>\n",
       "<p>1000 rows × 2 columns</p>\n",
       "</div>"
      ],
      "text/plain": [
       "                                                     url label\n",
       "31593  https://twitter.com/coldthrill_/status/1522055...     F\n",
       "31594  https://twitter.com/__akrv/status/152183898583...     F\n",
       "31595  https://twitter.com/diggichen/status/152191208...     F\n",
       "31596  https://twitter.com/st_cadoc/status/1521856449...     F\n",
       "31597  https://twitter.com/featpinks/status/152215746...     F\n",
       "...                                                  ...   ...\n",
       "32588  https://twitter.com/markmccaughrean/status/152...     F\n",
       "32589  https://twitter.com/drumkingpiu/status/1521806...     F\n",
       "32590  https://twitter.com/ausforkj/status/1522129463...     F\n",
       "32591  https://twitter.com/dkpareek21/status/15218167...     F\n",
       "32592  https://twitter.com/darkandelicate/status/1521...     F\n",
       "\n",
       "[1000 rows x 2 columns]"
      ]
     },
     "execution_count": 75,
     "metadata": {},
     "output_type": "execute_result"
    }
   ],
   "source": [
    "i = 100\n",
    "df.iloc[(i)*1000:min((i+1)*1000, df.size)]"
   ]
  }
 ],
 "metadata": {
  "kernelspec": {
   "display_name": "myvenv",
   "language": "python",
   "name": "python3"
  },
  "language_info": {
   "codemirror_mode": {
    "name": "ipython",
    "version": 3
   },
   "file_extension": ".py",
   "mimetype": "text/x-python",
   "name": "python",
   "nbconvert_exporter": "python",
   "pygments_lexer": "ipython3",
   "version": "3.11.6"
  }
 },
 "nbformat": 4,
 "nbformat_minor": 2
}
